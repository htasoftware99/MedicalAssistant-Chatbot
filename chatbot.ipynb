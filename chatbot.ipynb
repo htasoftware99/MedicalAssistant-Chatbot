{
 "cells": [
  {
   "cell_type": "code",
   "execution_count": 1,
   "id": "8cbf6e95-04e7-4d14-90a1-e006a345863f",
   "metadata": {},
   "outputs": [
    {
     "name": "stderr",
     "output_type": "stream",
     "text": [
      "/home/hta/anaconda3/envs/nlpas/lib/python3.8/site-packages/tqdm/auto.py:21: TqdmWarning: IProgress not found. Please update jupyter and ipywidgets. See https://ipywidgets.readthedocs.io/en/stable/user_install.html\n",
      "  from .autonotebook import tqdm as notebook_tqdm\n",
      "Downloading readme: 100%|██████████████████████| 863/863 [00:00<00:00, 1.49MB/s]\n",
      "Downloading data: 100%|██████████████████████| 142M/142M [00:24<00:00, 5.69MB/s]\n",
      "Generating train split: 100%|█| 256916/256916 [00:00<00:00, 399175.63 examples/s\n"
     ]
    },
    {
     "data": {
      "text/plain": [
       "{'Description': 'Q. What does abutment of the nerve root mean?',\n",
       " 'Patient': 'Hi doctor,I am just wondering what is abutting and abutment of the nerve root means in a back issue. Please explain. What treatment is required for\\xa0annular bulging and tear?',\n",
       " 'Doctor': 'Hi. I have gone through your query with diligence and would like you to know that I am here to help you. For further information consult a neurologist online -->'}"
      ]
     },
     "execution_count": 1,
     "metadata": {},
     "output_type": "execute_result"
    }
   ],
   "source": [
    "from datasets import load_dataset, Dataset\n",
    "\n",
    "# JSON dosyanızın yolunu belirtin\n",
    "dataset = load_dataset('ruslanmv/ai-medical-chatbot', 'default', split=\"train[:100000]\")\n",
    "dataset[0]"
   ]
  },
  {
   "cell_type": "code",
   "execution_count": 2,
   "id": "da34afdf-a327-439b-b6ee-b284cea51561",
   "metadata": {},
   "outputs": [],
   "source": [
    "from transformers import AutoTokenizer\n",
    "\n",
    "# Tokenizer'ı yükleyin\n",
    "tokenizer = AutoTokenizer.from_pretrained('t5-small')\n",
    "\n",
    "def tokenize_function(examples):\n",
    "    # Girdiyi tokenize edin\n",
    "    encodings = tokenizer(examples['Patient'], padding='max_length', truncation=True, max_length=128)\n",
    "\n",
    "    # Yanıtı tokenize edin ve labels olarak ekleyin\n",
    "    encodings['labels'] = tokenizer(examples['Doctor'], padding='max_length', truncation=True, max_length=128)['input_ids']\n",
    "\n",
    "    return encodings"
   ]
  },
  {
   "cell_type": "code",
   "execution_count": 3,
   "id": "d5e0e61d-994a-4c18-adc1-7f8b80de861e",
   "metadata": {},
   "outputs": [
    {
     "name": "stderr",
     "output_type": "stream",
     "text": [
      "Map: 100%|█████████████████████| 100000/100000 [00:23<00:00, 4219.57 examples/s]\n"
     ]
    }
   ],
   "source": [
    "tokenized_dataset = dataset.map(tokenize_function, batched=True)"
   ]
  },
  {
   "cell_type": "code",
   "execution_count": 4,
   "id": "8d223128-0fb0-4afe-acf4-a2aeccea7709",
   "metadata": {},
   "outputs": [],
   "source": [
    "from datasets import DatasetDict\n",
    "\n",
    "# Veri setini train ve test setlerine ayırma\n",
    "split_dataset = tokenized_dataset.train_test_split(test_size=0.2)\n",
    "\n",
    "# DatasetDict oluşturma\n",
    "dataset_dict = DatasetDict({\n",
    "    'train': split_dataset['train'],\n",
    "    'test': split_dataset['test']\n",
    "})"
   ]
  },
  {
   "cell_type": "code",
   "execution_count": 6,
   "id": "2b5d261c-0059-4d7a-bc09-55a07d2db4aa",
   "metadata": {},
   "outputs": [
    {
     "name": "stderr",
     "output_type": "stream",
     "text": [
      "/home/hta/anaconda3/envs/nlpas/lib/python3.8/site-packages/transformers/training_args.py:1525: FutureWarning: `evaluation_strategy` is deprecated and will be removed in version 4.46 of 🤗 Transformers. Use `eval_strategy` instead\n",
      "  warnings.warn(\n",
      "huggingface/tokenizers: The current process just got forked, after parallelism has already been used. Disabling parallelism to avoid deadlocks...\n",
      "To disable this warning, you can either:\n",
      "\t- Avoid using `tokenizers` before the fork if possible\n",
      "\t- Explicitly set the environment variable TOKENIZERS_PARALLELISM=(true | false)\n"
     ]
    },
    {
     "data": {
      "text/html": [
       "\n",
       "    <div>\n",
       "      \n",
       "      <progress value='20000' max='20000' style='width:300px; height:20px; vertical-align: middle;'></progress>\n",
       "      [20000/20000 1:27:45, Epoch 1/1]\n",
       "    </div>\n",
       "    <table border=\"1\" class=\"dataframe\">\n",
       "  <thead>\n",
       " <tr style=\"text-align: left;\">\n",
       "      <th>Epoch</th>\n",
       "      <th>Training Loss</th>\n",
       "      <th>Validation Loss</th>\n",
       "    </tr>\n",
       "  </thead>\n",
       "  <tbody>\n",
       "    <tr>\n",
       "      <td>1</td>\n",
       "      <td>2.609400</td>\n",
       "      <td>2.476499</td>\n",
       "    </tr>\n",
       "  </tbody>\n",
       "</table><p>"
      ],
      "text/plain": [
       "<IPython.core.display.HTML object>"
      ]
     },
     "metadata": {},
     "output_type": "display_data"
    },
    {
     "data": {
      "text/plain": [
       "TrainOutput(global_step=20000, training_loss=2.8523453796386717, metrics={'train_runtime': 5266.763, 'train_samples_per_second': 15.19, 'train_steps_per_second': 3.797, 'total_flos': 2706836029440000.0, 'train_loss': 2.8523453796386717, 'epoch': 1.0})"
      ]
     },
     "execution_count": 6,
     "metadata": {},
     "output_type": "execute_result"
    }
   ],
   "source": [
    "from transformers import Trainer, TrainingArguments, AutoModelForSeq2SeqLM\n",
    "\n",
    "# Modeli yükleyin\n",
    "model = AutoModelForSeq2SeqLM.from_pretrained('t5-small')\n",
    "\n",
    "# Eğitim argümanlarını tanımlayın\n",
    "training_args = TrainingArguments(\n",
    "    output_dir = \"./results\",\n",
    "    evaluation_strategy=\"epoch\",\n",
    "    learning_rate=2e-5,\n",
    "    per_device_train_batch_size=4,\n",
    "    per_device_eval_batch_size=4,\n",
    "    num_train_epochs=1,\n",
    "    weight_decay=0.01,\n",
    ")\n",
    "\n",
    "# Trainer'ı oluşturun\n",
    "trainer = Trainer(\n",
    "    model=model,\n",
    "    args=training_args,\n",
    "    train_dataset=dataset_dict['train'],\n",
    "    eval_dataset=dataset_dict['test'],\n",
    ")\n",
    "\n",
    "# Modeli eğitin\n",
    "trainer.train()"
   ]
  },
  {
   "cell_type": "code",
   "execution_count": 7,
   "id": "43bcacda-e128-4bf3-a0f0-8c3d93ed1e07",
   "metadata": {},
   "outputs": [],
   "source": [
    "model.to(\"cpu\")\n",
    "# Örnek giriş\n",
    "input_text = \"I have a headache and I do not feel very good. Please explain doctor.\"\n",
    "\n",
    "# Tokenize edin\n",
    "inputs = tokenizer(input_text, return_tensors='pt', padding=True, truncation=True, max_length=128)"
   ]
  },
  {
   "cell_type": "code",
   "execution_count": 8,
   "id": "e65dab3c-d0c5-4ae6-b97b-f4976ad6c9bb",
   "metadata": {},
   "outputs": [
    {
     "name": "stdout",
     "output_type": "stream",
     "text": [
      "Generated response: Hello,Thanks for using healthcare magic.I have gone through your query and here is my advice to you:\n"
     ]
    }
   ],
   "source": [
    "import torch\n",
    "# Modeli değerlendirme moduna alın\n",
    "model.eval()\n",
    "\n",
    "# Yanıt üretin\n",
    "with torch.no_grad():\n",
    "    outputs = model.generate(\n",
    "        input_ids=inputs['input_ids'],\n",
    "        attention_mask=inputs['attention_mask'],\n",
    "        max_length=512,       # Maksimum yanıt uzunluğu\n",
    "        num_beams=2,          # Beam search\n",
    "        early_stopping=True,  # Erken durdurma\n",
    "        no_repeat_ngram_size=1 # Tekrarları önlemek için\n",
    "    )\n",
    "\n",
    "# Yanıtı decode edin\n",
    "generated_text = tokenizer.decode(outputs[0], skip_special_tokens=True)\n",
    "print(f\"Generated response: {generated_text}\")"
   ]
  },
  {
   "cell_type": "code",
   "execution_count": 9,
   "id": "487f368e-3bd3-4cc8-a814-49d8763685ce",
   "metadata": {},
   "outputs": [
    {
     "data": {
      "text/plain": [
       "('Chatbot/Python/Models/Models_local/local_medical_assistant_model/tokenizer_config.json',\n",
       " 'Chatbot/Python/Models/Models_local/local_medical_assistant_model/special_tokens_map.json',\n",
       " 'Chatbot/Python/Models/Models_local/local_medical_assistant_model/spiece.model',\n",
       " 'Chatbot/Python/Models/Models_local/local_medical_assistant_model/added_tokens.json',\n",
       " 'Chatbot/Python/Models/Models_local/local_medical_assistant_model/tokenizer.json')"
      ]
     },
     "execution_count": 9,
     "metadata": {},
     "output_type": "execute_result"
    }
   ],
   "source": [
    "model.save_pretrained('Chatbot/Python/Models/Models_local/local_medical_assistant_model')\n",
    "tokenizer.save_pretrained('Chatbot/Python/Models/Models_local/local_medical_assistant_model')"
   ]
  },
  {
   "cell_type": "code",
   "execution_count": null,
   "id": "4a4e420d-610f-4884-9743-1d3b724e425b",
   "metadata": {},
   "outputs": [],
   "source": []
  }
 ],
 "metadata": {
  "kernelspec": {
   "display_name": "Python 3 (ipykernel)",
   "language": "python",
   "name": "python3"
  },
  "language_info": {
   "codemirror_mode": {
    "name": "ipython",
    "version": 3
   },
   "file_extension": ".py",
   "mimetype": "text/x-python",
   "name": "python",
   "nbconvert_exporter": "python",
   "pygments_lexer": "ipython3",
   "version": "3.8.19"
  }
 },
 "nbformat": 4,
 "nbformat_minor": 5
}
